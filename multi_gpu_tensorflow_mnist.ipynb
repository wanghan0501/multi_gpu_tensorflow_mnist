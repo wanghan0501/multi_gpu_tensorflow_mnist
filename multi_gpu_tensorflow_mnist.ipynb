{
 "cells": [
  {
   "cell_type": "code",
   "execution_count": 1,
   "metadata": {
    "ExecuteTime": {
     "end_time": "2018-03-28T06:57:14.368978Z",
     "start_time": "2018-03-28T06:57:12.920332Z"
    },
    "scrolled": true
   },
   "outputs": [
    {
     "name": "stderr",
     "output_type": "stream",
     "text": [
      "/usr/lib/python3.6/importlib/_bootstrap.py:219: RuntimeWarning: compiletime version 3.5 of module 'tensorflow.python.framework.fast_tensor_util' does not match runtime version 3.6\n",
      "  return f(*args, **kwds)\n",
      "/usr/local/lib/python3.6/dist-packages/h5py/__init__.py:36: FutureWarning: Conversion of the second argument of issubdtype from `float` to `np.floating` is deprecated. In future, it will be treated as `np.float64 == np.dtype(float).type`.\n",
      "  from ._conv import register_converters as _register_converters\n"
     ]
    }
   ],
   "source": [
    "import tensorflow as tf\n",
    "import tensorflow.contrib.slim as slim\n",
    "import numpy as np\n",
    "from tensorflow.contrib.learn.python.learn.datasets.mnist import read_data_sets"
   ]
  },
  {
   "cell_type": "markdown",
   "metadata": {
    "ExecuteTime": {
     "end_time": "2018-03-28T06:56:36.003878Z",
     "start_time": "2018-03-28T06:56:35.999344Z"
    }
   },
   "source": [
    "# Load Data"
   ]
  },
  {
   "cell_type": "code",
   "execution_count": 2,
   "metadata": {
    "ExecuteTime": {
     "end_time": "2018-03-28T06:57:14.791014Z",
     "start_time": "2018-03-28T06:57:14.371638Z"
    }
   },
   "outputs": [
    {
     "name": "stdout",
     "output_type": "stream",
     "text": [
      "Extracting mnist/train-images-idx3-ubyte.gz\n",
      "Extracting mnist/train-labels-idx1-ubyte.gz\n",
      "Extracting mnist/t10k-images-idx3-ubyte.gz\n",
      "Extracting mnist/t10k-labels-idx1-ubyte.gz\n"
     ]
    }
   ],
   "source": [
    "mnist = read_data_sets(\"mnist/\", one_hot=True)"
   ]
  },
  {
   "cell_type": "markdown",
   "metadata": {},
   "source": [
    "# Simple Structure"
   ]
  },
  {
   "cell_type": "code",
   "execution_count": 3,
   "metadata": {
    "ExecuteTime": {
     "end_time": "2018-03-28T06:57:14.799359Z",
     "start_time": "2018-03-28T06:57:14.793525Z"
    }
   },
   "outputs": [],
   "source": [
    "def simple_fc(inputs):\n",
    "    net = slim.fully_connected(inputs, 512, scope='FC1')\n",
    "    net = slim.fully_connected(net, 256, scope='FC2')\n",
    "    logits = slim.fully_connected(net, 10, activation_fn=None, scope='Logits')\n",
    "    predictions = slim.softmax(logits)\n",
    "    return logits, predictions"
   ]
  },
  {
   "cell_type": "markdown",
   "metadata": {},
   "source": [
    "# configure"
   ]
  },
  {
   "cell_type": "code",
   "execution_count": 4,
   "metadata": {
    "ExecuteTime": {
     "end_time": "2018-03-28T06:57:14.907444Z",
     "start_time": "2018-03-28T06:57:14.801657Z"
    }
   },
   "outputs": [],
   "source": [
    "gpu_num = 2 \n",
    "batch_size =200 "
   ]
  },
  {
   "cell_type": "markdown",
   "metadata": {},
   "source": [
    "# Model"
   ]
  },
  {
   "cell_type": "code",
   "execution_count": 5,
   "metadata": {
    "ExecuteTime": {
     "end_time": "2018-03-28T06:57:15.080921Z",
     "start_time": "2018-03-28T06:57:14.910201Z"
    },
    "code_folding": []
   },
   "outputs": [],
   "source": [
    "class Model():\n",
    "    def __init__(self):\n",
    "        self._create_placeholders()\n",
    "        self._feed_data()\n",
    "        with tf.variable_scope(tf.get_variable_scope(), reuse=tf.AUTO_REUSE):\n",
    "            self._create_train_model()\n",
    "            self._create_test_model()\n",
    "\n",
    "    def _create_placeholders(self):\n",
    "        self.inputs = tf.placeholder(\n",
    "            tf.float32, shape=(None, 784), name='inputs')\n",
    "        self.labels = tf.placeholder(\n",
    "            tf.float32, shape=(None, 10), name='labels')\n",
    "\n",
    "    def _feed_data(self):\n",
    "        self.X = tf.split(self.inputs, gpu_num)\n",
    "        self.Y = tf.split(self.labels, gpu_num)\n",
    "\n",
    "    def _create_train_model(self):\n",
    "        for gpu_id in range(gpu_num):\n",
    "            with tf.device(\n",
    "                    tf.DeviceSpec(device_type=\"GPU\", device_index=gpu_id)):\n",
    "                print('tower:{}...'.format(gpu_id))\n",
    "                with tf.variable_scope(\n",
    "                        tf.get_variable_scope(), reuse=(gpu_id > 0)):\n",
    "                    logits, predictions = simple_fc(self.X[gpu_id])\n",
    "                    tf.get_variable_scope().reuse_variables()\n",
    "                    tower_loss = tf.losses.softmax_cross_entropy(\n",
    "                        onehot_labels=self.Y[gpu_id], logits=logits)\n",
    "                    tf.add_to_collection(\"train_total_loss\", tower_loss)\n",
    "                    train_tower_classes = tf.argmax(input=predictions, axis=1)\n",
    "                    tf.add_to_collection(\"train_total_classes\",\n",
    "                                         train_tower_classes)\n",
    "                    train_tower_labels = tf.argmax(\n",
    "                        input=self.Y[gpu_id], axis=1)\n",
    "                    train_tower_accuracy = tf.reduce_mean(\n",
    "                        tf.cast(\n",
    "                            tf.equal(train_tower_labels, train_tower_classes),\n",
    "                            tf.float32))\n",
    "                    tf.add_to_collection(\"train_total_accuracy\",\n",
    "                                         train_tower_accuracy)\n",
    "        print('build train model on gpu tower done.')\n",
    "        train_loss = tf.reduce_mean(tf.get_collection(\"train_total_loss\"), 0)\n",
    "        train_op = tf.train.AdamOptimizer(0.001).minimize(\n",
    "            train_loss, colocate_gradients_with_ops=True)\n",
    "        train_accuracy = tf.reduce_mean(\n",
    "            tf.get_collection(\"train_total_accuracy\"), 0)\n",
    "        train_classes = tf.reshape(\n",
    "            tf.get_collection('train_total_classes'), [-1, 1])\n",
    "        self.train_op = train_op\n",
    "        self.train_loss = train_loss\n",
    "        self.train_accuracy = train_accuracy\n",
    "        self.train_classes = train_classes\n",
    "\n",
    "    def _create_test_model(self):\n",
    "        for gpu_id in range(gpu_num):\n",
    "            with tf.device(\n",
    "                    tf.DeviceSpec(device_type=\"GPU\", device_index=gpu_id)):\n",
    "                print('test tower:{}...'.format(gpu_id))\n",
    "                with tf.variable_scope(\n",
    "                        tf.get_variable_scope(), reuse=(gpu_id > 0)):\n",
    "                    logits, predictions = simple_fc(self.X[gpu_id])\n",
    "                    tf.get_variable_scope().reuse_variables()\n",
    "                    tower_loss = tf.losses.softmax_cross_entropy(\n",
    "                        onehot_labels=self.Y[gpu_id], logits=logits)\n",
    "                    tf.add_to_collection(\"test_total_loss\", tower_loss)\n",
    "                    test_tower_classes = tf.argmax(input=predictions, axis=1)\n",
    "                    tf.add_to_collection(\"test_total_classes\",\n",
    "                                         test_tower_classes)\n",
    "                    test_tower_labels = tf.argmax(input=self.Y[gpu_id], axis=1)\n",
    "                    test_tower_accuracy = tf.reduce_mean(\n",
    "                        tf.cast(\n",
    "                            tf.equal(test_tower_labels, test_tower_classes),\n",
    "                            tf.float32))\n",
    "                    tf.add_to_collection(\"test_total_accuracy\",\n",
    "                                         test_tower_accuracy)\n",
    "        print('build test model on gpu tower done.')\n",
    "        test_loss = tf.reduce_mean(tf.get_collection(\"test_total_loss\"), 0)\n",
    "        test_accuracy = tf.reduce_mean(\n",
    "            tf.get_collection(\"test_total_accuracy\"), 0)\n",
    "        test_classes = tf.reshape(\n",
    "            tf.get_collection('test_total_classes'), [-1, 1])\n",
    "        self.test_loss = test_loss\n",
    "        self.test_accuracy = test_accuracy\n",
    "        self.test_classes = test_classes"
   ]
  },
  {
   "cell_type": "markdown",
   "metadata": {},
   "source": [
    "# Run Main"
   ]
  },
  {
   "cell_type": "code",
   "execution_count": 6,
   "metadata": {
    "ExecuteTime": {
     "end_time": "2018-03-28T07:00:07.879779Z",
     "start_time": "2018-03-28T06:57:15.082952Z"
    },
    "scrolled": false
   },
   "outputs": [
    {
     "name": "stdout",
     "output_type": "stream",
     "text": [
      "tower:0...\n",
      "tower:1...\n",
      "build train model on gpu tower done.\n",
      "test tower:0...\n",
      "test tower:1...\n",
      "build test model on gpu tower done.\n",
      "<tf.Variable 'FC1/weights:0' shape=(784, 512) dtype=float32_ref>\n",
      "<tf.Variable 'FC1/biases:0' shape=(512,) dtype=float32_ref>\n",
      "<tf.Variable 'FC2/weights:0' shape=(512, 256) dtype=float32_ref>\n",
      "<tf.Variable 'FC2/biases:0' shape=(256,) dtype=float32_ref>\n",
      "<tf.Variable 'Logits/weights:0' shape=(256, 10) dtype=float32_ref>\n",
      "<tf.Variable 'Logits/biases:0' shape=(10,) dtype=float32_ref>\n",
      "<tf.Variable 'beta1_power:0' shape=() dtype=float32_ref>\n",
      "<tf.Variable 'beta2_power:0' shape=() dtype=float32_ref>\n",
      "<tf.Variable 'FC1/weights/Adam:0' shape=(784, 512) dtype=float32_ref>\n",
      "<tf.Variable 'FC1/weights/Adam_1:0' shape=(784, 512) dtype=float32_ref>\n",
      "<tf.Variable 'FC1/biases/Adam:0' shape=(512,) dtype=float32_ref>\n",
      "<tf.Variable 'FC1/biases/Adam_1:0' shape=(512,) dtype=float32_ref>\n",
      "<tf.Variable 'FC2/weights/Adam:0' shape=(512, 256) dtype=float32_ref>\n",
      "<tf.Variable 'FC2/weights/Adam_1:0' shape=(512, 256) dtype=float32_ref>\n",
      "<tf.Variable 'FC2/biases/Adam:0' shape=(256,) dtype=float32_ref>\n",
      "<tf.Variable 'FC2/biases/Adam_1:0' shape=(256,) dtype=float32_ref>\n",
      "<tf.Variable 'Logits/weights/Adam:0' shape=(256, 10) dtype=float32_ref>\n",
      "<tf.Variable 'Logits/weights/Adam_1:0' shape=(256, 10) dtype=float32_ref>\n",
      "<tf.Variable 'Logits/biases/Adam:0' shape=(10,) dtype=float32_ref>\n",
      "<tf.Variable 'Logits/biases/Adam_1:0' shape=(10,) dtype=float32_ref>\n",
      "epoch 0, train_acc: 0.97500, train_loss: 0.10247, test_acc: 0.92500, test_loss: 0.19804\n",
      "epoch 5, train_acc: 1.00000, train_loss: 0.00694, test_acc: 0.98000, test_loss: 0.07059\n",
      "epoch 10, train_acc: 1.00000, train_loss: 0.00087, test_acc: 0.98500, test_loss: 0.10701\n",
      "epoch 15, train_acc: 1.00000, train_loss: 0.00029, test_acc: 0.97500, test_loss: 0.08489\n",
      "epoch 20, train_acc: 1.00000, train_loss: 0.00101, test_acc: 0.99500, test_loss: 0.05534\n",
      "epoch 25, train_acc: 1.00000, train_loss: 0.00235, test_acc: 0.98500, test_loss: 0.10542\n",
      "epoch 30, train_acc: 0.99500, train_loss: 0.01048, test_acc: 0.95500, test_loss: 0.21601\n",
      "epoch 35, train_acc: 0.99500, train_loss: 0.00985, test_acc: 0.99500, test_loss: 0.02701\n",
      "epoch 40, train_acc: 1.00000, train_loss: 0.00004, test_acc: 0.98500, test_loss: 0.12527\n",
      "epoch 45, train_acc: 0.99000, train_loss: 0.04040, test_acc: 0.97500, test_loss: 0.09320\n",
      "epoch 50, train_acc: 1.00000, train_loss: 0.00004, test_acc: 0.99000, test_loss: 0.06550\n",
      "epoch 55, train_acc: 1.00000, train_loss: 0.00131, test_acc: 0.99500, test_loss: 0.04407\n",
      "epoch 60, train_acc: 1.00000, train_loss: 0.00000, test_acc: 0.99000, test_loss: 0.08654\n",
      "epoch 65, train_acc: 1.00000, train_loss: 0.00000, test_acc: 0.96500, test_loss: 0.27028\n",
      "epoch 70, train_acc: 1.00000, train_loss: 0.00001, test_acc: 0.98000, test_loss: 0.07379\n",
      "epoch 75, train_acc: 1.00000, train_loss: 0.00000, test_acc: 0.96500, test_loss: 0.11691\n",
      "epoch 80, train_acc: 1.00000, train_loss: 0.00000, test_acc: 0.98500, test_loss: 0.04176\n",
      "epoch 85, train_acc: 1.00000, train_loss: 0.00000, test_acc: 0.98500, test_loss: 0.16749\n",
      "epoch 90, train_acc: 1.00000, train_loss: 0.00000, test_acc: 0.99500, test_loss: 0.07740\n",
      "epoch 95, train_acc: 1.00000, train_loss: 0.00000, test_acc: 0.98000, test_loss: 0.19444\n"
     ]
    }
   ],
   "source": [
    "model = Model()\n",
    "config_gpu = tf.ConfigProto()\n",
    "config_gpu.gpu_options.allow_growth = True\n",
    "\n",
    "if not tf.gfile.Exists('saved_models'):\n",
    "    print('create saved_model directory')\n",
    "    tf.gfile.MkDir('saved_models')\n",
    "\n",
    "\n",
    "def get_save_vars(exclusions):\n",
    "    variables_to_save = []\n",
    "    for var in tf.global_variables():\n",
    "        excluded = False\n",
    "        for exclusion in exclusions:\n",
    "            if exclusion in var.op.name:\n",
    "                excluded = True\n",
    "                break\n",
    "        if not excluded:\n",
    "            variables_to_save.append(var)\n",
    "    return variables_to_save\n",
    "\n",
    "\n",
    "with tf.Session(config=config_gpu) as sess:\n",
    "    init_op = tf.group(tf.global_variables_initializer(),\n",
    "                       tf.local_variables_initializer())\n",
    "    sess.run(init_op)\n",
    "    saver = tf.train.Saver(get_save_vars(['/Adam']))\n",
    "    for i in tf.global_variables():\n",
    "        print(i)\n",
    "    for epoch in range(100):\n",
    "        for batch in range(mnist.train.num_examples // batch_size):\n",
    "            batch = mnist.train.next_batch(batch_size)\n",
    "            _, train_acc, train_loss = sess.run(\n",
    "                [model.train_op, model.train_accuracy, model.train_loss],\n",
    "                feed_dict={\n",
    "                    model.inputs: batch[0],\n",
    "                    model.labels: batch[1]\n",
    "                })\n",
    "        for batch in range(mnist.test.num_examples // batch_size):\n",
    "            batch = mnist.test.next_batch(batch_size)\n",
    "            test_acc, test_loss = sess.run(\n",
    "                [model.test_accuracy, model.test_loss],\n",
    "                feed_dict={\n",
    "                    model.inputs: batch[0],\n",
    "                    model.labels: batch[1]\n",
    "                })\n",
    "        if epoch % 5 == 0:\n",
    "            saver.save(sess, 'saved_models/{}.ckpt'.format(epoch))\n",
    "            print(\n",
    "                \"epoch {}, train_acc: {:.5f}, train_loss: {:.5f}, test_acc: {:.5f}, test_loss: {:.5f}\".\n",
    "                format(epoch, train_acc, train_loss, test_acc, test_loss))"
   ]
  }
 ],
 "metadata": {
  "kernelspec": {
   "display_name": "Python 3",
   "language": "python",
   "name": "python3"
  },
  "language_info": {
   "codemirror_mode": {
    "name": "ipython",
    "version": 3
   },
   "file_extension": ".py",
   "mimetype": "text/x-python",
   "name": "python",
   "nbconvert_exporter": "python",
   "pygments_lexer": "ipython3",
   "version": "3.6.3"
  },
  "varInspector": {
   "cols": {
    "lenName": 16,
    "lenType": 16,
    "lenVar": 40
   },
   "kernels_config": {
    "python": {
     "delete_cmd_postfix": "",
     "delete_cmd_prefix": "del ",
     "library": "var_list.py",
     "varRefreshCmd": "print(var_dic_list())"
    },
    "r": {
     "delete_cmd_postfix": ") ",
     "delete_cmd_prefix": "rm(",
     "library": "var_list.r",
     "varRefreshCmd": "cat(var_dic_list()) "
    }
   },
   "types_to_exclude": [
    "module",
    "function",
    "builtin_function_or_method",
    "instance",
    "_Feature"
   ],
   "window_display": false
  }
 },
 "nbformat": 4,
 "nbformat_minor": 2
}
